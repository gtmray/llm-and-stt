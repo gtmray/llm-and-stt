{
 "cells": [
  {
   "cell_type": "code",
   "execution_count": 11,
   "metadata": {},
   "outputs": [],
   "source": [
    "from model import AzureOpenAIModel\n",
    "import json"
   ]
  },
  {
   "cell_type": "code",
   "execution_count": 12,
   "metadata": {},
   "outputs": [],
   "source": [
    "gpt_model = AzureOpenAIModel()"
   ]
  },
  {
   "cell_type": "code",
   "execution_count": 13,
   "metadata": {},
   "outputs": [],
   "source": [
    "human_prompt = \"\"\"\\\n",
    "The following text within triple backticks is the raw output of a speech-to-text model. Please:\n",
    "1. Correct any transcription errors (misheard words, incorrect phrases).\n",
    "2. Ensure proper grammar, punctuation, and sentence structure.\n",
    "3. Maintain the original meaning and tone as closely as possible.\n",
    "\n",
    "# Formatting Instructions\n",
    "Provide the corrected text in JSON format with the following structure:\n",
    "{{\n",
    "  \"result\": \"corrected text here\"\n",
    "}}\n",
    "\n",
    "Raw text:\n",
    "```{result}```\n",
    "\"\"\"\n",
    "\n",
    "result = \"This not going to work. I am not going to able to do this.\"\n",
    "input_message = {\"result\": result}\n",
    "result = gpt_model.run_model(\n",
    "    human_prompt=human_prompt, input_message=input_message\n",
    ")"
   ]
  },
  {
   "cell_type": "code",
   "execution_count": 15,
   "metadata": {},
   "outputs": [
    {
     "name": "stdout",
     "output_type": "stream",
     "text": [
      "This is not going to work. I am not going to be able to do this.\n"
     ]
    }
   ],
   "source": [
    "parsed_result = json.loads(result.strip(\"```json\"))[\"result\"]\n",
    "print(parsed_result)"
   ]
  },
  {
   "cell_type": "code",
   "execution_count": null,
   "metadata": {},
   "outputs": [],
   "source": []
  }
 ],
 "metadata": {
  "kernelspec": {
   "display_name": "langchain-env",
   "language": "python",
   "name": "python3"
  },
  "language_info": {
   "codemirror_mode": {
    "name": "ipython",
    "version": 3
   },
   "file_extension": ".py",
   "mimetype": "text/x-python",
   "name": "python",
   "nbconvert_exporter": "python",
   "pygments_lexer": "ipython3",
   "version": "3.10.15"
  }
 },
 "nbformat": 4,
 "nbformat_minor": 2
}
