{
 "cells": [
  {
   "cell_type": "code",
   "execution_count": 7,
   "metadata": {},
   "outputs": [],
   "source": [
    "from model import AzureOpenAIModel\n",
    "from IPython.display import display, HTML"
   ]
  },
  {
   "cell_type": "code",
   "execution_count": 3,
   "metadata": {},
   "outputs": [],
   "source": [
    "gpt_model = AzureOpenAIModel()"
   ]
  },
  {
   "cell_type": "code",
   "execution_count": 25,
   "metadata": {},
   "outputs": [
    {
     "name": "stdout",
     "output_type": "stream",
     "text": [
      "********************************************************************************\n"
     ]
    },
    {
     "data": {
      "text/html": [
       "```json\n",
       "{\n",
       "    \"analysis\": \"John initially had 13 lego sets, each sold for $15. This means he could potentially earn 13 * $15 = $195. He bought 8 video games for $20 each, which totals 8 * $20 = $160. After buying the video games, he had $5 left, indicating he spent $160 + $5 = $165. Therefore, he earned $165 from selling his lego sets. To find out how many lego sets he sold, we divide the total money earned by the price per lego set: $165 / $15 = 11 lego sets sold. Since he initially had 13 lego sets, the number of lego sets he still has is 13 - 11 = 2.\",\n",
       "    \"result\": 2\n",
       "}\n",
       "```"
      ],
      "text/plain": [
       "<IPython.core.display.HTML object>"
      ]
     },
     "metadata": {},
     "output_type": "display_data"
    },
    {
     "name": "stdout",
     "output_type": "stream",
     "text": [
      "********************************************************************************\n"
     ]
    },
    {
     "data": {
      "text/html": [
       "```json\n",
       "{\n",
       "    \"analysis\": \"John initially has 13 lego sets. He sells some of them at $15 each. He buys 8 video games at $20 each, totaling $160, and has $5 left. This means he had $165 from selling lego sets. Dividing $165 by $15 per lego set, he sold 11 lego sets. Therefore, he still has 13 - 11 = 2 lego sets remaining.\",\n",
       "    \"result\": 2\n",
       "}\n",
       "```"
      ],
      "text/plain": [
       "<IPython.core.display.HTML object>"
      ]
     },
     "metadata": {},
     "output_type": "display_data"
    },
    {
     "name": "stdout",
     "output_type": "stream",
     "text": [
      "********************************************************************************\n"
     ]
    },
    {
     "data": {
      "text/html": [
       "```json\n",
       "{\n",
       "    \"analysis\": \"John initially has 13 lego sets. He sells each lego set for $15. Therefore, the total amount he gets from selling all lego sets is 13 * 15 = $195. He buys 8 video games for $20 each, which costs him 8 * 20 = $160. After buying the video games, he has $195 - $160 = $35. Since he has $5 left, it means he has $35 - $5 = $30 from selling lego sets. Therefore, he sold $30 / $15 = 2 lego sets. Hence, he still has 13 - 2 = 11 lego sets.\",\n",
       "    \"result\": 11\n",
       "}\n",
       "```"
      ],
      "text/plain": [
       "<IPython.core.display.HTML object>"
      ]
     },
     "metadata": {},
     "output_type": "display_data"
    },
    {
     "name": "stdout",
     "output_type": "stream",
     "text": [
      "********************************************************************************\n"
     ]
    },
    {
     "data": {
      "text/html": [
       "```json\n",
       "{\n",
       "    \"analysis\": \"John initially had 13 lego sets. He sold some of them to buy video games and had $5 left. Each lego set was sold for $15. He bought 8 video games at $20 each, which totals $160. Adding the $5 he had left, the total amount he had after selling the lego sets is $165. To find out how many lego sets he sold, we divide $165 by the price per lego set, which is $15. This gives us 11 lego sets sold. Therefore, he still has 13 - 11 = 2 lego sets.\",\n",
       "    \"result\": 2\n",
       "}\n",
       "```"
      ],
      "text/plain": [
       "<IPython.core.display.HTML object>"
      ]
     },
     "metadata": {},
     "output_type": "display_data"
    },
    {
     "name": "stdout",
     "output_type": "stream",
     "text": [
      "********************************************************************************\n"
     ]
    },
    {
     "data": {
      "text/html": [
       "```json\n",
       "{\n",
       "    \"analysis\": \"John initially has 13 lego sets. He sells some of them to buy video games. Each lego set is sold for $15. He buys 8 video games, each costing $20, and has $5 left. The total cost of the video games is 8 * $20 = $160. Adding the $5 he has left, the total amount he had after selling the lego sets is $160 + $5 = $165. To find out how many lego sets he sold, we divide the total amount by the price per lego set: $165 / $15 = 11 lego sets. Therefore, he sold 11 lego sets and still has 13 - 11 = 2 lego sets remaining.\",\n",
       "    \"result\": 2\n",
       "}\n",
       "```"
      ],
      "text/plain": [
       "<IPython.core.display.HTML object>"
      ]
     },
     "metadata": {},
     "output_type": "display_data"
    },
    {
     "name": "stdout",
     "output_type": "stream",
     "text": [
      "********************************************************************************\n"
     ]
    },
    {
     "data": {
      "text/html": [
       "```json\n",
       "{\n",
       "    \"analysis\": \"John initially has 13 lego sets. He sells each for $15, so he makes a total of 13 * $15 = $195. He buys 8 video games for $20 each, which costs him 8 * $20 = $160. After buying the video games, he has $195 - $160 = $35 left. Since he has $5 left after all transactions, he must have sold enough lego sets to make $35 - $5 = $30. Therefore, he sold $30 / $15 = 2 lego sets. Thus, he still has 13 - 2 = 11 lego sets.\",\n",
       "    \"result\": 11\n",
       "}\n",
       "```"
      ],
      "text/plain": [
       "<IPython.core.display.HTML object>"
      ]
     },
     "metadata": {},
     "output_type": "display_data"
    },
    {
     "name": "stdout",
     "output_type": "stream",
     "text": [
      "********************************************************************************\n"
     ]
    },
    {
     "data": {
      "text/html": [
       "```json\n",
       "{\n",
       "    \"analysis\": \"John initially had 13 lego sets. He sold some of them to buy video games and had $5 left. Each lego set was sold for $15. He bought 8 video games for $20 each, which totals $160. Adding the $5 he had left, he had $165 from selling lego sets. To find out how many lego sets he sold, we divide $165 by $15 per lego set, which gives us 11 lego sets sold. Therefore, he still has 2 lego sets remaining.\",\n",
       "    \"result\": 2\n",
       "}\n",
       "```"
      ],
      "text/plain": [
       "<IPython.core.display.HTML object>"
      ]
     },
     "metadata": {},
     "output_type": "display_data"
    },
    {
     "name": "stdout",
     "output_type": "stream",
     "text": [
      "********************************************************************************\n"
     ]
    },
    {
     "data": {
      "text/html": [
       "```json\n",
       "{\n",
       "    \"analysis\": \"John initially had 13 lego sets. He sold some of them to buy video games. Each lego set was sold for $15. He bought 8 video games for $20 each, which totals $160. He also has $5 left. Therefore, he must have made $165 from selling lego sets. Dividing $165 by $15 per lego set, we find that he sold 11 lego sets. Since he initially had 13 lego sets, he still has 2 lego sets remaining.\",\n",
       "    \"result\": 2\n",
       "}\n",
       "```"
      ],
      "text/plain": [
       "<IPython.core.display.HTML object>"
      ]
     },
     "metadata": {},
     "output_type": "display_data"
    },
    {
     "name": "stdout",
     "output_type": "stream",
     "text": [
      "********************************************************************************\n"
     ]
    },
    {
     "data": {
      "text/html": [
       "```json\n",
       "{\n",
       "    \"analysis\": \"John initially had 13 lego sets and sold some of them to buy video games. He sold each lego set for $15. He bought 8 video games for $20 each, which totals $160. He also has $5 left after buying the video games. Therefore, the total amount of money he had after selling the lego sets is $165. To find out how many lego sets he sold, we divide the total money he had by the price per lego set: $165 / $15 = 11 lego sets sold. Since he initially had 13 lego sets, the number of lego sets he still has is 13 - 11.\",\n",
       "    \"result\": 2\n",
       "}\n",
       "```"
      ],
      "text/plain": [
       "<IPython.core.display.HTML object>"
      ]
     },
     "metadata": {},
     "output_type": "display_data"
    },
    {
     "name": "stdout",
     "output_type": "stream",
     "text": [
      "********************************************************************************\n"
     ]
    },
    {
     "data": {
      "text/html": [
       "```json\n",
       "{\n",
       "    \"analysis\": \"John initially had 13 lego sets. He sold some of them to buy 8 video games at $20 each and had $5 left. The total cost of the video games is 8 * $20 = $160. Adding the $5 he had left, the total amount he had after selling the lego sets is $160 + $5 = $165. Each lego set was sold for $15, so he sold $165 / $15 = 11 lego sets. Therefore, he still has 13 - 11 = 2 lego sets.\",\n",
       "    \"result\": 2\n",
       "}\n",
       "```"
      ],
      "text/plain": [
       "<IPython.core.display.HTML object>"
      ]
     },
     "metadata": {},
     "output_type": "display_data"
    }
   ],
   "source": [
    "human_prompt = \"\"\"\\\n",
    "John plans to sell all his toys and use the money to buy video games. He has 13 lego sets and he sells them for $15 each. He ends up buying 8 video games for $20 each and has $5 left. How much lego sets does he still have?\n",
    "\n",
    "Output formatting: Output the result in json format. The json object should have two keys \"analysis\" and \"result\", with the value being the number of lego sets John still has. For example: \n",
    "{{\n",
    "    \"analysis\": // any analysis you want to provide\n",
    "    \"result\": // the number of lego sets John still has in integer\n",
    "}}\n",
    "\"\"\"\n",
    "\n",
    "all_results = []\n",
    "for _ in range(10):\n",
    "    result = gpt_model.run_model(\n",
    "        human_prompt=human_prompt,\n",
    "    )\n",
    "    all_results.append(result)\n",
    "    print(\"*\" * 80)\n",
    "    display(HTML(result))"
   ]
  },
  {
   "cell_type": "code",
   "execution_count": 28,
   "metadata": {},
   "outputs": [
    {
     "data": {
      "text/plain": [
       "[2, 2, 11, 2, 2, 11, 2, 2, 2, 2]"
      ]
     },
     "execution_count": 28,
     "metadata": {},
     "output_type": "execute_result"
    }
   ],
   "source": [
    "import json\n",
    "\n",
    "all_results_parsed = [\n",
    "    json.loads(result.strip(\"```json\"))[\"result\"] for result in all_results\n",
    "]\n",
    "print(all_results_parsed)"
   ]
  },
  {
   "cell_type": "code",
   "execution_count": 30,
   "metadata": {},
   "outputs": [
    {
     "name": "stdout",
     "output_type": "stream",
     "text": [
      "Most common answer: 2\n"
     ]
    }
   ],
   "source": [
    "print(f\"Most common answer: {max(set(all_results_parsed), key=all_results_parsed.count)}\")"
   ]
  },
  {
   "cell_type": "code",
   "execution_count": null,
   "metadata": {},
   "outputs": [],
   "source": []
  }
 ],
 "metadata": {
  "kernelspec": {
   "display_name": "langchain-env",
   "language": "python",
   "name": "python3"
  },
  "language_info": {
   "codemirror_mode": {
    "name": "ipython",
    "version": 3
   },
   "file_extension": ".py",
   "mimetype": "text/x-python",
   "name": "python",
   "nbconvert_exporter": "python",
   "pygments_lexer": "ipython3",
   "version": "3.10.15"
  }
 },
 "nbformat": 4,
 "nbformat_minor": 2
}
